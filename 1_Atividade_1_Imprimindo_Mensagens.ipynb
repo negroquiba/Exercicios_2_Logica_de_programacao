{
  "nbformat": 4,
  "nbformat_minor": 0,
  "metadata": {
    "colab": {
      "provenance": []
    },
    "kernelspec": {
      "name": "python3",
      "display_name": "Python 3"
    },
    "language_info": {
      "name": "python"
    }
  },
  "cells": [
    {
      "cell_type": "code",
      "execution_count": null,
      "metadata": {
        "colab": {
          "base_uri": "https://localhost:8080/"
        },
        "id": "RCc1821MzArt",
        "outputId": "cdcfc4b4-3e82-4255-f1a7-f4a42003a021"
      },
      "outputs": [
        {
          "output_type": "stream",
          "name": "stdout",
          "text": [
            "Olá mundo\n"
          ]
        }
      ],
      "source": [
        "print(\"Olá mundo\")"
      ]
    },
    {
      "cell_type": "code",
      "source": [
        "n = input('Qual é o seu nome? ')\n",
        "c = input('Qual é a sua cidade natal? ')\n",
        "print('Seu nome é '+ n + ', e sua cidade natal é '+ c)"
      ],
      "metadata": {
        "colab": {
          "base_uri": "https://localhost:8080/"
        },
        "id": "NItZSzY0fJa9",
        "outputId": "05170f07-1c04-457e-9277-5bead8217f24"
      },
      "execution_count": 1,
      "outputs": [
        {
          "output_type": "stream",
          "name": "stdout",
          "text": [
            "Qual é o seu nome? Marcelo\n",
            "Qual é a sua cidade natal? São Paulo\n",
            "Seu nome é Marcelo, e sua cidade natal é São Paulo\n"
          ]
        }
      ]
    }
  ]
}