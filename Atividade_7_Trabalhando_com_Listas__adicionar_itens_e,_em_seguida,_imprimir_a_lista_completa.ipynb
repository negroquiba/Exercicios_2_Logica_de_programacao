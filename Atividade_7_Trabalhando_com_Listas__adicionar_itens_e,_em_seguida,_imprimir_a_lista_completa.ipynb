{
  "nbformat": 4,
  "nbformat_minor": 0,
  "metadata": {
    "colab": {
      "provenance": []
    },
    "kernelspec": {
      "name": "python3",
      "display_name": "Python 3"
    },
    "language_info": {
      "name": "python"
    }
  },
  "cells": [
    {
      "cell_type": "code",
      "execution_count": 1,
      "metadata": {
        "colab": {
          "base_uri": "https://localhost:8080/"
        },
        "id": "l7GF8K7aQAHM",
        "outputId": "cf7c8a23-fb77-4fd3-bf59-e7eca85b356c"
      },
      "outputs": [
        {
          "output_type": "stream",
          "name": "stdout",
          "text": [
            "Bem-vindo à sua lista de compras!\n",
            "Digite 'sair' para terminar a adição de itens.\n",
            "Adicione um item à lista de compras: Sabonete\n",
            "Adicione um item à lista de compras: Pasta de dente\n",
            "Adicione um item à lista de compras: Café\n",
            "Adicione um item à lista de compras: Filtro para café\n",
            "Adicione um item à lista de compras: Pães\n",
            "Adicione um item à lista de compras: Frios\n",
            "Adicione um item à lista de compras: Manteiga\n",
            "Adicione um item à lista de compras: Desinfetante\n",
            "Adicione um item à lista de compras: Cloro\n",
            "Adicione um item à lista de compras: Panos\n",
            "Adicione um item à lista de compras: Rodo\n",
            "Adicione um item à lista de compras: Vassoura\n",
            "Adicione um item à lista de compras: sair\n",
            "\n",
            "Sua lista de compras completa é:\n",
            "- Sabonete\n",
            "- Pasta de dente\n",
            "- Café\n",
            "- Filtro para café\n",
            "- Pães\n",
            "- Frios\n",
            "- Manteiga\n",
            "- Desinfetante\n",
            "- Cloro\n",
            "- Panos\n",
            "- Rodo\n",
            "- Vassoura\n"
          ]
        }
      ],
      "source": [
        "lista_de_compras = []\n",
        "\n",
        "print(\"Bem-vindo à sua lista de compras!\")\n",
        "print(\"Digite 'sair' para terminar a adição de itens.\")\n",
        "\n",
        "while True:\n",
        "    item = input(\"Adicione um item à lista de compras: \")\n",
        "\n",
        "    if item.lower() == 'sair':\n",
        "        break\n",
        "\n",
        "    lista_de_compras.append(item)\n",
        "\n",
        "print(\"\\nSua lista de compras completa é:\")\n",
        "for item in lista_de_compras:\n",
        "    print(\"-\", item)\n",
        "\n"
      ]
    }
  ]
}