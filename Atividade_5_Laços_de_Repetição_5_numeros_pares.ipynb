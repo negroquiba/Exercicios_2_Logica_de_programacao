{
  "nbformat": 4,
  "nbformat_minor": 0,
  "metadata": {
    "colab": {
      "provenance": []
    },
    "kernelspec": {
      "name": "python3",
      "display_name": "Python 3"
    },
    "language_info": {
      "name": "python"
    }
  },
  "cells": [
    {
      "cell_type": "code",
      "execution_count": null,
      "metadata": {
        "colab": {
          "base_uri": "https://localhost:8080/"
        },
        "id": "qpRiPpXXJ3L2",
        "outputId": "b6a40197-bb96-48af-c238-8ba045211cd3"
      },
      "outputs": [
        {
          "output_type": "stream",
          "name": "stdout",
          "text": [
            "Esses são os numeros pares  2\n",
            "Esses são os numeros pares  4\n",
            "Esses são os numeros pares  6\n",
            "Esses são os numeros pares  8\n",
            "Esses são os numeros pares  10\n"
          ]
        }
      ],
      "source": [
        "for i in range(10):\n",
        "  numero = i + 1\n",
        "  if numero % 2 == 0:\n",
        "    print(\"Esses são os numeros pares \", numero)\n",
        "\n"
      ]
    }
  ]
}