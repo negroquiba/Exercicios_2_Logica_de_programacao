{
  "nbformat": 4,
  "nbformat_minor": 0,
  "metadata": {
    "colab": {
      "provenance": []
    },
    "kernelspec": {
      "name": "python3",
      "display_name": "Python 3"
    },
    "language_info": {
      "name": "python"
    }
  },
  "cells": [
    {
      "cell_type": "code",
      "execution_count": null,
      "metadata": {
        "colab": {
          "base_uri": "https://localhost:8080/"
        },
        "id": "TR1WcvSYGam7",
        "outputId": "7ec29af2-6c88-4192-dfc1-358d5847bfd4"
      },
      "outputs": [
        {
          "output_type": "stream",
          "name": "stdout",
          "text": [
            "Qual a temperatura em °C 40\n",
            "Está quente hoje\n"
          ]
        }
      ],
      "source": [
        "temperatura = int(input(\"Qual a temperatura em °C \"))\n",
        "\n",
        "if temperatura >=30:\n",
        "  print(\"Está quente hoje\")\n",
        "elif temperatura >=15 <=29:\n",
        "  print(\"Está agradavel\")\n",
        "else:\n",
        "  print(\"EStá frio\")"
      ]
    }
  ]
}