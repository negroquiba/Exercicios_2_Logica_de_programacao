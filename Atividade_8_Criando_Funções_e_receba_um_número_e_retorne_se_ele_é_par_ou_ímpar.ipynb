{
  "nbformat": 4,
  "nbformat_minor": 0,
  "metadata": {
    "colab": {
      "provenance": []
    },
    "kernelspec": {
      "name": "python3",
      "display_name": "Python 3"
    },
    "language_info": {
      "name": "python"
    }
  },
  "cells": [
    {
      "cell_type": "code",
      "source": [
        "def par_ou_impar(numero):\n",
        "    if numero % 2 == 0:\n",
        "        return \"Par\"\n",
        "    else:\n",
        "        return \"Ímpar\"\n",
        "numero = int(input(\"Digite um número: \"))\n",
        "resultado = par_ou_impar(numero)\n",
        "print(f\"O número {numero} é {resultado}.\")\n"
      ],
      "metadata": {
        "colab": {
          "base_uri": "https://localhost:8080/"
        },
        "id": "eYWhYPkojzW3",
        "outputId": "a47d0ad9-1329-4d0b-aeaf-7897c6b1dc91"
      },
      "execution_count": 5,
      "outputs": [
        {
          "output_type": "stream",
          "name": "stdout",
          "text": [
            "Digite um número: 5\n",
            "O número 5 é Ímpar.\n"
          ]
        }
      ]
    }
  ]
}