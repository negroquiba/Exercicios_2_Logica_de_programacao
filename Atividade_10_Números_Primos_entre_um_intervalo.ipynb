{
  "nbformat": 4,
  "nbformat_minor": 0,
  "metadata": {
    "colab": {
      "provenance": []
    },
    "kernelspec": {
      "name": "python3",
      "display_name": "Python 3"
    },
    "language_info": {
      "name": "python"
    }
  },
  "cells": [
    {
      "cell_type": "code",
      "execution_count": 1,
      "metadata": {
        "colab": {
          "base_uri": "https://localhost:8080/"
        },
        "id": "l7GF8K7aQAHM",
        "outputId": "5f2edeb3-5b41-4bfa-c9b3-c40fde6b073f"
      },
      "outputs": [
        {
          "output_type": "stream",
          "name": "stdout",
          "text": [
            "Digite o menor número do intervalo: 1\n",
            "Digite o maior número do intervalo: 20\n",
            "Os números primos no intervalo de 1 a 20 são:\n",
            "2\n",
            "3\n",
            "5\n",
            "7\n",
            "11\n",
            "13\n",
            "17\n",
            "19\n"
          ]
        }
      ],
      "source": [
        "def eh_primo(numero):\n",
        "    if numero <= 1:\n",
        "        return False\n",
        "    for i in range(2, int(numero ** 0.5) + 1):\n",
        "        if numero % i == 0:\n",
        "            return False\n",
        "    return True\n",
        "\n",
        "def encontrar_primos(intervalo_inferior, intervalo_superior):\n",
        "    primos = []\n",
        "    for num in range(intervalo_inferior, intervalo_superior + 1):\n",
        "        if eh_primo(num):\n",
        "            primos.append(num)\n",
        "    return primos\n",
        "\n",
        "intervalo_inferior = int(input(\"Digite o menor número do intervalo: \"))\n",
        "intervalo_superior = int(input(\"Digite o maior número do intervalo: \"))\n",
        "\n",
        "primos_encontrados = encontrar_primos(intervalo_inferior, intervalo_superior)\n",
        "\n",
        "print(f\"Os números primos no intervalo de {intervalo_inferior} a {intervalo_superior} são:\")\n",
        "for primo in primos_encontrados:\n",
        "    print(primo)\n"
      ]
    }
  ]
}