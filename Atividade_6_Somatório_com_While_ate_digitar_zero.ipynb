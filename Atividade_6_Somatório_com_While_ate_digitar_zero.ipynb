{
  "nbformat": 4,
  "nbformat_minor": 0,
  "metadata": {
    "colab": {
      "provenance": []
    },
    "kernelspec": {
      "name": "python3",
      "display_name": "Python 3"
    },
    "language_info": {
      "name": "python"
    }
  },
  "cells": [
    {
      "cell_type": "code",
      "execution_count": 2,
      "metadata": {
        "colab": {
          "base_uri": "https://localhost:8080/"
        },
        "id": "l7GF8K7aQAHM",
        "outputId": "60bcffc9-cd71-4bb0-dd1b-cf6164792dcc"
      },
      "outputs": [
        {
          "output_type": "stream",
          "name": "stdout",
          "text": [
            "Digite um número (ou 0 para terminar): 5\n",
            "Digite um número (ou 0 para terminar): 7\n",
            "Digite um número (ou 0 para terminar): 8\n",
            "Digite um número (ou 0 para terminar): 2.3\n",
            "Digite um número (ou 0 para terminar): 0\n",
            "A soma dos números digitados é: 22.3\n"
          ]
        }
      ],
      "source": [
        "soma = 0\n",
        "\n",
        "while True:\n",
        "    numero = float(input(\"Digite um número (ou 0 para terminar): \"))\n",
        "    if numero == 0:\n",
        "        break\n",
        "    soma += numero\n",
        "print(f\"A soma dos números digitados é: {soma}\")\n",
        "\n"
      ]
    }
  ]
}