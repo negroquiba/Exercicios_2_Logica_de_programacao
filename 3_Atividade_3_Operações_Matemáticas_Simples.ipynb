{
  "nbformat": 4,
  "nbformat_minor": 0,
  "metadata": {
    "colab": {
      "provenance": []
    },
    "kernelspec": {
      "name": "python3",
      "display_name": "Python 3"
    },
    "language_info": {
      "name": "python"
    }
  },
  "cells": [
    {
      "cell_type": "code",
      "execution_count": null,
      "metadata": {
        "colab": {
          "base_uri": "https://localhost:8080/"
        },
        "id": "y9h6yiAh8T2Q",
        "outputId": "c5df5148-7e76-4dbc-e0f6-2e988d19edce"
      },
      "outputs": [
        {
          "output_type": "stream",
          "name": "stdout",
          "text": [
            "Qual é o primeiro numero? 5\n",
            "Qual é o segundo número? 2\n",
            "Soma:  7\n",
            "Subtração:  3\n",
            "Produto: 10\n",
            "Divisão: 2.5\n"
          ]
        }
      ],
      "source": [
        "numero1= int(input(\"Qual é o primeiro numero? \"))\n",
        "numero2= int(input(\"Qual é o segundo número? \"))\n",
        "a= numero1\n",
        "b= numero2\n",
        "soma= a+b\n",
        "subtracao= a-b\n",
        "produto= a*b\n",
        "divisão= a/b\n",
        "\n",
        "print(\"Soma: \",soma)\n",
        "print(\"Subtração: \",subtracao)\n",
        "print(\"Produto:\",produto)\n",
        "print(\"Divisão:\",divisão)"
      ]
    }
  ]
}