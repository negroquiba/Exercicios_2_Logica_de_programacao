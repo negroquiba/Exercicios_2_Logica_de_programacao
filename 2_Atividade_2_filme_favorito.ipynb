{
  "nbformat": 4,
  "nbformat_minor": 0,
  "metadata": {
    "colab": {
      "provenance": []
    },
    "kernelspec": {
      "name": "python3",
      "display_name": "Python 3"
    },
    "language_info": {
      "name": "python"
    }
  },
  "cells": [
    {
      "cell_type": "code",
      "execution_count": 1,
      "metadata": {
        "colab": {
          "base_uri": "https://localhost:8080/"
        },
        "id": "DYSMgOzozfrQ",
        "outputId": "620628e1-552a-4800-b26a-c8cb0da8df16"
      },
      "outputs": [
        {
          "output_type": "stream",
          "name": "stdout",
          "text": [
            "Qual é o seu filme favorito Os goonies\n",
            "Que ano ele foi lançado? 1988\n",
            "Olá, seu filme favorito é Os goonies! Ele foi lançado em 1988\n"
          ]
        }
      ],
      "source": [
        "nome = input(\"Qual é o seu filme favorito \")\n",
        "lançamento = input(\"Que ano ele foi lançado? \")\n",
        "print(\"Olá, seu filme favorito é \" + nome + \"! Ele foi lançado em \" + lançamento)\n"
      ]
    }
  ]
}