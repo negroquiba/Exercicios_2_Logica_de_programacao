{
  "nbformat": 4,
  "nbformat_minor": 0,
  "metadata": {
    "colab": {
      "provenance": []
    },
    "kernelspec": {
      "name": "python3",
      "display_name": "Python 3"
    },
    "language_info": {
      "name": "python"
    }
  },
  "cells": [
    {
      "cell_type": "code",
      "execution_count": 4,
      "metadata": {
        "colab": {
          "base_uri": "https://localhost:8080/"
        },
        "id": "l7GF8K7aQAHM",
        "outputId": "671c2fcb-6d61-4ecf-f77e-6d8543921901"
      },
      "outputs": [
        {
          "output_type": "stream",
          "name": "stdout",
          "text": [
            "Digite uma frase: O curso é muito dificil, porém eu não vou desistir. Estou aprendendo python no curso do Guanabara, e um dia eu chego lá\n",
            "Digite a letra que deseja contar: t\n",
            "A letra 't' aparece 4 vez(es) na frase.\n"
          ]
        }
      ],
      "source": [
        "frase = input(\"Digite uma frase: \")\n",
        "\n",
        "letra = input(\"Digite a letra que deseja contar: \")\n",
        "\n",
        "if len(letra) != 1:\n",
        "\n",
        "    print(\"Por favor, digite apenas uma letra.\")\n",
        "\n",
        "else:\n",
        "\n",
        "    contagem = frase.count(letra)\n",
        "\n",
        "    print(f\"A letra '{letra}' aparece {contagem} vez(es) na frase.\")\n"
      ]
    }
  ]
}